{
 "cells": [
  {
   "cell_type": "code",
   "execution_count": 1,
   "id": "7303bcf6",
   "metadata": {},
   "outputs": [
    {
     "name": "stderr",
     "output_type": "stream",
     "text": [
      "c:\\users\\debu\\appdata\\local\\programs\\python\\python38\\lib\\site-packages\\imblearn\\utils\\_validation.py:586: FutureWarning: Pass sampling_strategy=0.9 as keyword args. From version 0.9 passing these as positional arguments will result in an error\n",
      "  warnings.warn(\n"
     ]
    }
   ],
   "source": [
    "import pandas as pd\n",
    "import numpy as np\n",
    "\n",
    "df=pd.read_csv('cancer_data.csv')\n",
    "df.drop('id',axis=1,inplace=True)\n",
    "df\n",
    "\n",
    "y=df.diagnosis\n",
    "x=df.drop('diagnosis',axis=1)\n",
    "\n",
    "from sklearn.preprocessing import LabelEncoder\n",
    "le=LabelEncoder()\n",
    "y=le.fit_transform(y)\n",
    "\n",
    "\n",
    "from sklearn.model_selection import train_test_split\n",
    "x_train,x_test,y_train,y_test=train_test_split(x,y,test_size=0.2,random_state=42)\n",
    "\n",
    "from imblearn.over_sampling import RandomOverSampler\n",
    "os=RandomOverSampler(0.9)\n",
    "x_train_os,y_train_os=os.fit_resample(x_train,y_train)\n",
    "\n",
    "pd.DataFrame(y_train).value_counts()\n",
    "\n",
    "pd.DataFrame(y_train_os).value_counts()\n",
    "\n",
    "from sklearn.preprocessing import MinMaxScaler\n",
    "minmaxscale=MinMaxScaler(feature_range=(0,1))\n",
    "x_train_os=minmaxscale.fit_transform(x_train_os)\n",
    "x_test=minmaxscale.fit_transform(x_test)\n",
    "\n",
    "x_train_os=np.reshape(x_train_os,(x_train_os.shape[0],1,x_train_os.shape[1]))\n",
    "\n",
    "x_test=np.reshape(x_test,(x_test.shape[0],1,x_test.shape[1]))"
   ]
  },
  {
   "cell_type": "code",
   "execution_count": 2,
   "id": "022bc74c",
   "metadata": {},
   "outputs": [
    {
     "data": {
      "text/plain": [
       "0    357\n",
       "1    212\n",
       "dtype: int64"
      ]
     },
     "execution_count": 2,
     "metadata": {},
     "output_type": "execute_result"
    }
   ],
   "source": [
    "pd.DataFrame(y).value_counts()"
   ]
  },
  {
   "cell_type": "code",
   "execution_count": 301,
   "id": "be6bfded",
   "metadata": {},
   "outputs": [],
   "source": [
    "import tensorflow.keras\n",
    "\n",
    "from tensorflow.keras.models import Sequential\n",
    "from tensorflow.keras.layers import GRU,Dropout,Dense,Flatten"
   ]
  },
  {
   "cell_type": "code",
   "execution_count": 302,
   "id": "9c03d5d1",
   "metadata": {},
   "outputs": [],
   "source": [
    "model=Sequential()\n",
    "model.add(GRU(164,input_shape=(1,30),activation='relu',kernel_regularizer=tensorflow.keras.regularizers.l2(0.001),return_sequences=True))\n",
    "model.add(Dropout(0.2))\n",
    "model.add(GRU(100,kernel_regularizer=tensorflow.keras.regularizers.l2(0.001),activation='relu'))\n",
    "model.add(Dropout(0.2))\n",
    "model.add(Dense(32,kernel_regularizer=tensorflow.keras.regularizers.l2(0.001),activation='relu'))\n",
    "model.add(Dropout(0.2))\n"
   ]
  },
  {
   "cell_type": "code",
   "execution_count": 303,
   "id": "73e5c1ff",
   "metadata": {},
   "outputs": [],
   "source": [
    "train_features=model.predict(x_train_os)"
   ]
  },
  {
   "cell_type": "code",
   "execution_count": 304,
   "id": "c77ddbba",
   "metadata": {},
   "outputs": [
    {
     "data": {
      "text/plain": [
       "(543, 1, 30)"
      ]
     },
     "execution_count": 304,
     "metadata": {},
     "output_type": "execute_result"
    }
   ],
   "source": [
    "x_train_os.shape"
   ]
  },
  {
   "cell_type": "code",
   "execution_count": 306,
   "id": "5519b219",
   "metadata": {},
   "outputs": [],
   "source": [
    "test_features=model.predict(x_test)"
   ]
  },
  {
   "cell_type": "code",
   "execution_count": 321,
   "id": "62f18d12",
   "metadata": {},
   "outputs": [],
   "source": [
    "pd.DataFrame(train_features).to_csv('GRU_train.csv')\n",
    "pd.DataFrame(y_train_os).to_csv('GRU_label.csv')\n",
    "pd.DataFrame(test_features).to_csv('GRU_test.csv')\n",
    "pd.DataFrame(y_test).to_csv('GRU_test_label.csv')"
   ]
  },
  {
   "cell_type": "code",
   "execution_count": null,
   "id": "ba0e6960",
   "metadata": {},
   "outputs": [],
   "source": []
  }
 ],
 "metadata": {
  "kernelspec": {
   "display_name": "Python 3 (ipykernel)",
   "language": "python",
   "name": "python3"
  },
  "language_info": {
   "codemirror_mode": {
    "name": "ipython",
    "version": 3
   },
   "file_extension": ".py",
   "mimetype": "text/x-python",
   "name": "python",
   "nbconvert_exporter": "python",
   "pygments_lexer": "ipython3",
   "version": "3.8.0"
  }
 },
 "nbformat": 4,
 "nbformat_minor": 5
}
